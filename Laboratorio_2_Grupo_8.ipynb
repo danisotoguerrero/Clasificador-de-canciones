{
  "nbformat": 4,
  "nbformat_minor": 0,
  "metadata": {
    "colab": {
      "provenance": [],
      "mount_file_id": "1h7OsvMANL4XqrVGJ9pOxky6GWHj0qyL1",
      "authorship_tag": "ABX9TyOa0yHHKmHM23Y3cRGKVaLS",
      "include_colab_link": true
    },
    "kernelspec": {
      "name": "python3",
      "display_name": "Python 3"
    },
    "language_info": {
      "name": "python"
    }
  },
  "cells": [
    {
      "cell_type": "markdown",
      "metadata": {
        "id": "view-in-github",
        "colab_type": "text"
      },
      "source": [
        "<a href=\"https://colab.research.google.com/github/danisotoguerrero/Clasificador-de-canciones/blob/main/Laboratorio_2_Grupo_8.ipynb\" target=\"_parent\"><img src=\"https://colab.research.google.com/assets/colab-badge.svg\" alt=\"Open In Colab\"/></a>"
      ]
    },
    {
      "cell_type": "markdown",
      "source": [
        "# **Clasificador de canciones de Spotify**"
      ],
      "metadata": {
        "id": "Q1g6exHyc_HA"
      }
    },
    {
      "cell_type": "code",
      "source": [
        "# Importamos las bibliotecas que sabemos que vamos a usar\n",
        "import numpy as np\n",
        "import pandas as pd\n",
        "import matplotlib.pyplot as plt\n",
        "import seaborn as sns\n",
        "import plotly.graph_objects as go\n",
        "from sklearn.neighbors import KNeighborsClassifier\n",
        "from sklearn.linear_model import LogisticRegression\n",
        "from sklearn import preprocessing"
      ],
      "metadata": {
        "id": "vj2ZMNV3bkla"
      },
      "execution_count": 38,
      "outputs": []
    },
    {
      "cell_type": "code",
      "source": [
        "# Para leer datos de Google Drive\n",
        "from google.colab import drive\n",
        "drive.mount('/content/drive')"
      ],
      "metadata": {
        "colab": {
          "base_uri": "https://localhost:8080/"
        },
        "id": "YnpPkg9FboZu",
        "outputId": "e4287d47-45c9-477a-df70-46fc633a59b3"
      },
      "execution_count": 39,
      "outputs": [
        {
          "output_type": "stream",
          "name": "stdout",
          "text": [
            "Drive already mounted at /content/drive; to attempt to forcibly remount, call drive.mount(\"/content/drive\", force_remount=True).\n"
          ]
        }
      ]
    },
    {
      "cell_type": "code",
      "execution_count": 40,
      "metadata": {
        "id": "JdY7wrmVbbuf"
      },
      "outputs": [],
      "source": [
        "# Path de la carpeta donde tenemos los datos\n",
        "folder = \"/content/drive/MyDrive/UNI/Big Data/\""
      ]
    },
    {
      "cell_type": "code",
      "source": [
        "# 1. Carga de datos\n",
        "df = pd.read_csv(folder + \"Canciones_Spotify.csv\")\n",
        "df.sample(5)"
      ],
      "metadata": {
        "colab": {
          "base_uri": "https://localhost:8080/",
          "height": 296
        },
        "id": "ja7r6cHobtKB",
        "outputId": "2fbc367d-4334-4085-afc2-18829e267078"
      },
      "execution_count": 41,
      "outputs": [
        {
          "output_type": "execute_result",
          "data": {
            "text/plain": [
              "      Unnamed: 0  acousticness  danceability  duration_ms  energy  \\\n",
              "1162        1162      0.000339         0.905       177604   0.596   \n",
              "1872        1872      0.266000         0.626       233760   0.601   \n",
              "1803        1803      0.190000         0.776       239880   0.507   \n",
              "1971        1971      0.141000         0.615       203067   0.403   \n",
              "513          513      0.229000         0.485       330920   0.793   \n",
              "\n",
              "      instrumentalness  key  liveness  loudness  mode  speechiness    tempo  \\\n",
              "1162          0.000021    1    0.0897    -7.496     0       0.1180  149.996   \n",
              "1872          0.004050    2    0.1120    -6.400     1       0.0309  120.046   \n",
              "1803          0.000000    9    0.1200    -5.752     0       0.0405   98.051   \n",
              "1971          0.000000    0    0.0706   -17.264     1       0.1020   80.171   \n",
              "513           0.784000    0    0.4060    -8.693     1       0.0573  131.951   \n",
              "\n",
              "      time_signature  valence  target       song_title            artist  \n",
              "1162             4.0    0.419       0          HUMBLE.    Kendrick Lamar  \n",
              "1872             4.0    0.187       0        Automatic            Castro  \n",
              "1803             4.0    0.510       0      Secret Love              JoJo  \n",
              "1971             4.0    0.707       0  Fog On the Tyne       Lindisfarne  \n",
              "513              4.0    0.295       1       Best Night  The War On Drugs  "
            ],
            "text/html": [
              "\n",
              "  <div id=\"df-aa2acb07-3ed5-4e0c-bf96-f70c10a39192\" class=\"colab-df-container\">\n",
              "    <div>\n",
              "<style scoped>\n",
              "    .dataframe tbody tr th:only-of-type {\n",
              "        vertical-align: middle;\n",
              "    }\n",
              "\n",
              "    .dataframe tbody tr th {\n",
              "        vertical-align: top;\n",
              "    }\n",
              "\n",
              "    .dataframe thead th {\n",
              "        text-align: right;\n",
              "    }\n",
              "</style>\n",
              "<table border=\"1\" class=\"dataframe\">\n",
              "  <thead>\n",
              "    <tr style=\"text-align: right;\">\n",
              "      <th></th>\n",
              "      <th>Unnamed: 0</th>\n",
              "      <th>acousticness</th>\n",
              "      <th>danceability</th>\n",
              "      <th>duration_ms</th>\n",
              "      <th>energy</th>\n",
              "      <th>instrumentalness</th>\n",
              "      <th>key</th>\n",
              "      <th>liveness</th>\n",
              "      <th>loudness</th>\n",
              "      <th>mode</th>\n",
              "      <th>speechiness</th>\n",
              "      <th>tempo</th>\n",
              "      <th>time_signature</th>\n",
              "      <th>valence</th>\n",
              "      <th>target</th>\n",
              "      <th>song_title</th>\n",
              "      <th>artist</th>\n",
              "    </tr>\n",
              "  </thead>\n",
              "  <tbody>\n",
              "    <tr>\n",
              "      <th>1162</th>\n",
              "      <td>1162</td>\n",
              "      <td>0.000339</td>\n",
              "      <td>0.905</td>\n",
              "      <td>177604</td>\n",
              "      <td>0.596</td>\n",
              "      <td>0.000021</td>\n",
              "      <td>1</td>\n",
              "      <td>0.0897</td>\n",
              "      <td>-7.496</td>\n",
              "      <td>0</td>\n",
              "      <td>0.1180</td>\n",
              "      <td>149.996</td>\n",
              "      <td>4.0</td>\n",
              "      <td>0.419</td>\n",
              "      <td>0</td>\n",
              "      <td>HUMBLE.</td>\n",
              "      <td>Kendrick Lamar</td>\n",
              "    </tr>\n",
              "    <tr>\n",
              "      <th>1872</th>\n",
              "      <td>1872</td>\n",
              "      <td>0.266000</td>\n",
              "      <td>0.626</td>\n",
              "      <td>233760</td>\n",
              "      <td>0.601</td>\n",
              "      <td>0.004050</td>\n",
              "      <td>2</td>\n",
              "      <td>0.1120</td>\n",
              "      <td>-6.400</td>\n",
              "      <td>1</td>\n",
              "      <td>0.0309</td>\n",
              "      <td>120.046</td>\n",
              "      <td>4.0</td>\n",
              "      <td>0.187</td>\n",
              "      <td>0</td>\n",
              "      <td>Automatic</td>\n",
              "      <td>Castro</td>\n",
              "    </tr>\n",
              "    <tr>\n",
              "      <th>1803</th>\n",
              "      <td>1803</td>\n",
              "      <td>0.190000</td>\n",
              "      <td>0.776</td>\n",
              "      <td>239880</td>\n",
              "      <td>0.507</td>\n",
              "      <td>0.000000</td>\n",
              "      <td>9</td>\n",
              "      <td>0.1200</td>\n",
              "      <td>-5.752</td>\n",
              "      <td>0</td>\n",
              "      <td>0.0405</td>\n",
              "      <td>98.051</td>\n",
              "      <td>4.0</td>\n",
              "      <td>0.510</td>\n",
              "      <td>0</td>\n",
              "      <td>Secret Love</td>\n",
              "      <td>JoJo</td>\n",
              "    </tr>\n",
              "    <tr>\n",
              "      <th>1971</th>\n",
              "      <td>1971</td>\n",
              "      <td>0.141000</td>\n",
              "      <td>0.615</td>\n",
              "      <td>203067</td>\n",
              "      <td>0.403</td>\n",
              "      <td>0.000000</td>\n",
              "      <td>0</td>\n",
              "      <td>0.0706</td>\n",
              "      <td>-17.264</td>\n",
              "      <td>1</td>\n",
              "      <td>0.1020</td>\n",
              "      <td>80.171</td>\n",
              "      <td>4.0</td>\n",
              "      <td>0.707</td>\n",
              "      <td>0</td>\n",
              "      <td>Fog On the Tyne</td>\n",
              "      <td>Lindisfarne</td>\n",
              "    </tr>\n",
              "    <tr>\n",
              "      <th>513</th>\n",
              "      <td>513</td>\n",
              "      <td>0.229000</td>\n",
              "      <td>0.485</td>\n",
              "      <td>330920</td>\n",
              "      <td>0.793</td>\n",
              "      <td>0.784000</td>\n",
              "      <td>0</td>\n",
              "      <td>0.4060</td>\n",
              "      <td>-8.693</td>\n",
              "      <td>1</td>\n",
              "      <td>0.0573</td>\n",
              "      <td>131.951</td>\n",
              "      <td>4.0</td>\n",
              "      <td>0.295</td>\n",
              "      <td>1</td>\n",
              "      <td>Best Night</td>\n",
              "      <td>The War On Drugs</td>\n",
              "    </tr>\n",
              "  </tbody>\n",
              "</table>\n",
              "</div>\n",
              "    <div class=\"colab-df-buttons\">\n",
              "\n",
              "  <div class=\"colab-df-container\">\n",
              "    <button class=\"colab-df-convert\" onclick=\"convertToInteractive('df-aa2acb07-3ed5-4e0c-bf96-f70c10a39192')\"\n",
              "            title=\"Convert this dataframe to an interactive table.\"\n",
              "            style=\"display:none;\">\n",
              "\n",
              "  <svg xmlns=\"http://www.w3.org/2000/svg\" height=\"24px\" viewBox=\"0 -960 960 960\">\n",
              "    <path d=\"M120-120v-720h720v720H120Zm60-500h600v-160H180v160Zm220 220h160v-160H400v160Zm0 220h160v-160H400v160ZM180-400h160v-160H180v160Zm440 0h160v-160H620v160ZM180-180h160v-160H180v160Zm440 0h160v-160H620v160Z\"/>\n",
              "  </svg>\n",
              "    </button>\n",
              "\n",
              "  <style>\n",
              "    .colab-df-container {\n",
              "      display:flex;\n",
              "      gap: 12px;\n",
              "    }\n",
              "\n",
              "    .colab-df-convert {\n",
              "      background-color: #E8F0FE;\n",
              "      border: none;\n",
              "      border-radius: 50%;\n",
              "      cursor: pointer;\n",
              "      display: none;\n",
              "      fill: #1967D2;\n",
              "      height: 32px;\n",
              "      padding: 0 0 0 0;\n",
              "      width: 32px;\n",
              "    }\n",
              "\n",
              "    .colab-df-convert:hover {\n",
              "      background-color: #E2EBFA;\n",
              "      box-shadow: 0px 1px 2px rgba(60, 64, 67, 0.3), 0px 1px 3px 1px rgba(60, 64, 67, 0.15);\n",
              "      fill: #174EA6;\n",
              "    }\n",
              "\n",
              "    .colab-df-buttons div {\n",
              "      margin-bottom: 4px;\n",
              "    }\n",
              "\n",
              "    [theme=dark] .colab-df-convert {\n",
              "      background-color: #3B4455;\n",
              "      fill: #D2E3FC;\n",
              "    }\n",
              "\n",
              "    [theme=dark] .colab-df-convert:hover {\n",
              "      background-color: #434B5C;\n",
              "      box-shadow: 0px 1px 3px 1px rgba(0, 0, 0, 0.15);\n",
              "      filter: drop-shadow(0px 1px 2px rgba(0, 0, 0, 0.3));\n",
              "      fill: #FFFFFF;\n",
              "    }\n",
              "  </style>\n",
              "\n",
              "    <script>\n",
              "      const buttonEl =\n",
              "        document.querySelector('#df-aa2acb07-3ed5-4e0c-bf96-f70c10a39192 button.colab-df-convert');\n",
              "      buttonEl.style.display =\n",
              "        google.colab.kernel.accessAllowed ? 'block' : 'none';\n",
              "\n",
              "      async function convertToInteractive(key) {\n",
              "        const element = document.querySelector('#df-aa2acb07-3ed5-4e0c-bf96-f70c10a39192');\n",
              "        const dataTable =\n",
              "          await google.colab.kernel.invokeFunction('convertToInteractive',\n",
              "                                                    [key], {});\n",
              "        if (!dataTable) return;\n",
              "\n",
              "        const docLinkHtml = 'Like what you see? Visit the ' +\n",
              "          '<a target=\"_blank\" href=https://colab.research.google.com/notebooks/data_table.ipynb>data table notebook</a>'\n",
              "          + ' to learn more about interactive tables.';\n",
              "        element.innerHTML = '';\n",
              "        dataTable['output_type'] = 'display_data';\n",
              "        await google.colab.output.renderOutput(dataTable, element);\n",
              "        const docLink = document.createElement('div');\n",
              "        docLink.innerHTML = docLinkHtml;\n",
              "        element.appendChild(docLink);\n",
              "      }\n",
              "    </script>\n",
              "  </div>\n",
              "\n",
              "\n",
              "<div id=\"df-49d5edf3-9fea-45ce-94ee-82e772e0d68e\">\n",
              "  <button class=\"colab-df-quickchart\" onclick=\"quickchart('df-49d5edf3-9fea-45ce-94ee-82e772e0d68e')\"\n",
              "            title=\"Suggest charts.\"\n",
              "            style=\"display:none;\">\n",
              "\n",
              "<svg xmlns=\"http://www.w3.org/2000/svg\" height=\"24px\"viewBox=\"0 0 24 24\"\n",
              "     width=\"24px\">\n",
              "    <g>\n",
              "        <path d=\"M19 3H5c-1.1 0-2 .9-2 2v14c0 1.1.9 2 2 2h14c1.1 0 2-.9 2-2V5c0-1.1-.9-2-2-2zM9 17H7v-7h2v7zm4 0h-2V7h2v10zm4 0h-2v-4h2v4z\"/>\n",
              "    </g>\n",
              "</svg>\n",
              "  </button>\n",
              "\n",
              "<style>\n",
              "  .colab-df-quickchart {\n",
              "      --bg-color: #E8F0FE;\n",
              "      --fill-color: #1967D2;\n",
              "      --hover-bg-color: #E2EBFA;\n",
              "      --hover-fill-color: #174EA6;\n",
              "      --disabled-fill-color: #AAA;\n",
              "      --disabled-bg-color: #DDD;\n",
              "  }\n",
              "\n",
              "  [theme=dark] .colab-df-quickchart {\n",
              "      --bg-color: #3B4455;\n",
              "      --fill-color: #D2E3FC;\n",
              "      --hover-bg-color: #434B5C;\n",
              "      --hover-fill-color: #FFFFFF;\n",
              "      --disabled-bg-color: #3B4455;\n",
              "      --disabled-fill-color: #666;\n",
              "  }\n",
              "\n",
              "  .colab-df-quickchart {\n",
              "    background-color: var(--bg-color);\n",
              "    border: none;\n",
              "    border-radius: 50%;\n",
              "    cursor: pointer;\n",
              "    display: none;\n",
              "    fill: var(--fill-color);\n",
              "    height: 32px;\n",
              "    padding: 0;\n",
              "    width: 32px;\n",
              "  }\n",
              "\n",
              "  .colab-df-quickchart:hover {\n",
              "    background-color: var(--hover-bg-color);\n",
              "    box-shadow: 0 1px 2px rgba(60, 64, 67, 0.3), 0 1px 3px 1px rgba(60, 64, 67, 0.15);\n",
              "    fill: var(--button-hover-fill-color);\n",
              "  }\n",
              "\n",
              "  .colab-df-quickchart-complete:disabled,\n",
              "  .colab-df-quickchart-complete:disabled:hover {\n",
              "    background-color: var(--disabled-bg-color);\n",
              "    fill: var(--disabled-fill-color);\n",
              "    box-shadow: none;\n",
              "  }\n",
              "\n",
              "  .colab-df-spinner {\n",
              "    border: 2px solid var(--fill-color);\n",
              "    border-color: transparent;\n",
              "    border-bottom-color: var(--fill-color);\n",
              "    animation:\n",
              "      spin 1s steps(1) infinite;\n",
              "  }\n",
              "\n",
              "  @keyframes spin {\n",
              "    0% {\n",
              "      border-color: transparent;\n",
              "      border-bottom-color: var(--fill-color);\n",
              "      border-left-color: var(--fill-color);\n",
              "    }\n",
              "    20% {\n",
              "      border-color: transparent;\n",
              "      border-left-color: var(--fill-color);\n",
              "      border-top-color: var(--fill-color);\n",
              "    }\n",
              "    30% {\n",
              "      border-color: transparent;\n",
              "      border-left-color: var(--fill-color);\n",
              "      border-top-color: var(--fill-color);\n",
              "      border-right-color: var(--fill-color);\n",
              "    }\n",
              "    40% {\n",
              "      border-color: transparent;\n",
              "      border-right-color: var(--fill-color);\n",
              "      border-top-color: var(--fill-color);\n",
              "    }\n",
              "    60% {\n",
              "      border-color: transparent;\n",
              "      border-right-color: var(--fill-color);\n",
              "    }\n",
              "    80% {\n",
              "      border-color: transparent;\n",
              "      border-right-color: var(--fill-color);\n",
              "      border-bottom-color: var(--fill-color);\n",
              "    }\n",
              "    90% {\n",
              "      border-color: transparent;\n",
              "      border-bottom-color: var(--fill-color);\n",
              "    }\n",
              "  }\n",
              "</style>\n",
              "\n",
              "  <script>\n",
              "    async function quickchart(key) {\n",
              "      const quickchartButtonEl =\n",
              "        document.querySelector('#' + key + ' button');\n",
              "      quickchartButtonEl.disabled = true;  // To prevent multiple clicks.\n",
              "      quickchartButtonEl.classList.add('colab-df-spinner');\n",
              "      try {\n",
              "        const charts = await google.colab.kernel.invokeFunction(\n",
              "            'suggestCharts', [key], {});\n",
              "      } catch (error) {\n",
              "        console.error('Error during call to suggestCharts:', error);\n",
              "      }\n",
              "      quickchartButtonEl.classList.remove('colab-df-spinner');\n",
              "      quickchartButtonEl.classList.add('colab-df-quickchart-complete');\n",
              "    }\n",
              "    (() => {\n",
              "      let quickchartButtonEl =\n",
              "        document.querySelector('#df-49d5edf3-9fea-45ce-94ee-82e772e0d68e button');\n",
              "      quickchartButtonEl.style.display =\n",
              "        google.colab.kernel.accessAllowed ? 'block' : 'none';\n",
              "    })();\n",
              "  </script>\n",
              "</div>\n",
              "    </div>\n",
              "  </div>\n"
            ]
          },
          "metadata": {},
          "execution_count": 41
        }
      ]
    },
    {
      "cell_type": "code",
      "source": [
        "# 2. Cambio de estructura de datos a numpy y transformación de las etiquetas a números\n",
        "from sklearn import preprocessing\n",
        "\n",
        "X = df[['speechiness', 'liveness']].values   # Obtengo HAY QUE CAMBIAR LOS VALORES DE PRUEBA\n",
        "y_labels = df['target'].values        # Obtengo las etiquetas HAY QUE CAMBIAR LOS VALORES DE PRUEBA\n",
        "\n",
        "le = preprocessing.LabelEncoder()     # Instancio un objeto de la clase LabelEncoder()\n",
        "y = le.fit_transform(y_labels)        # Transformo las etiquetas a números"
      ],
      "metadata": {
        "id": "16_0o7ISCefs"
      },
      "execution_count": 5,
      "outputs": []
    },
    {
      "cell_type": "code",
      "source": [
        "# partición de los datos\n",
        "from sklearn.model_selection import train_test_split\n",
        "\n",
        "X_train, X_test, y_train, y_test = train_test_split(X, y, test_size=0.2)"
      ],
      "metadata": {
        "id": "4ptj9ocvDMuR"
      },
      "execution_count": 35,
      "outputs": []
    },
    {
      "cell_type": "code",
      "source": [
        "#3. Visualización de datos\n",
        "sns.swarmplot(x=\"speechiness\", y=\"liveness\", hue=\"target\", data = df, palette=\"husl\") # Obtengo HAY QUE CAMBIAR LOS VALORES DE PRUEBA"
      ],
      "metadata": {
        "id": "GWqf9aFVDZgK"
      },
      "execution_count": null,
      "outputs": []
    },
    {
      "cell_type": "code",
      "source": [
        "# 4. Creación del modelo y ajuste (entrenamiento)\n",
        "# Creamos un objeto de la clase LogisticRegression pasandole una serie de parámetros\n",
        "logreg = LogisticRegression(solver='liblinear', multi_class='ovr', max_iter=50)\n",
        "\n",
        "# Entrenamos el modelo de 'X' e 'y'\n",
        "logreg.fit(X_train, y_train)"
      ],
      "metadata": {
        "colab": {
          "base_uri": "https://localhost:8080/",
          "height": 75
        },
        "id": "2Ho6a2mFElYv",
        "outputId": "5239f031-b83a-4cec-a450-ba7a32df7d64"
      },
      "execution_count": 43,
      "outputs": [
        {
          "output_type": "execute_result",
          "data": {
            "text/plain": [
              "LogisticRegression(max_iter=50, multi_class='ovr', solver='liblinear')"
            ],
            "text/html": [
              "<style>#sk-container-id-4 {color: black;background-color: white;}#sk-container-id-4 pre{padding: 0;}#sk-container-id-4 div.sk-toggleable {background-color: white;}#sk-container-id-4 label.sk-toggleable__label {cursor: pointer;display: block;width: 100%;margin-bottom: 0;padding: 0.3em;box-sizing: border-box;text-align: center;}#sk-container-id-4 label.sk-toggleable__label-arrow:before {content: \"▸\";float: left;margin-right: 0.25em;color: #696969;}#sk-container-id-4 label.sk-toggleable__label-arrow:hover:before {color: black;}#sk-container-id-4 div.sk-estimator:hover label.sk-toggleable__label-arrow:before {color: black;}#sk-container-id-4 div.sk-toggleable__content {max-height: 0;max-width: 0;overflow: hidden;text-align: left;background-color: #f0f8ff;}#sk-container-id-4 div.sk-toggleable__content pre {margin: 0.2em;color: black;border-radius: 0.25em;background-color: #f0f8ff;}#sk-container-id-4 input.sk-toggleable__control:checked~div.sk-toggleable__content {max-height: 200px;max-width: 100%;overflow: auto;}#sk-container-id-4 input.sk-toggleable__control:checked~label.sk-toggleable__label-arrow:before {content: \"▾\";}#sk-container-id-4 div.sk-estimator input.sk-toggleable__control:checked~label.sk-toggleable__label {background-color: #d4ebff;}#sk-container-id-4 div.sk-label input.sk-toggleable__control:checked~label.sk-toggleable__label {background-color: #d4ebff;}#sk-container-id-4 input.sk-hidden--visually {border: 0;clip: rect(1px 1px 1px 1px);clip: rect(1px, 1px, 1px, 1px);height: 1px;margin: -1px;overflow: hidden;padding: 0;position: absolute;width: 1px;}#sk-container-id-4 div.sk-estimator {font-family: monospace;background-color: #f0f8ff;border: 1px dotted black;border-radius: 0.25em;box-sizing: border-box;margin-bottom: 0.5em;}#sk-container-id-4 div.sk-estimator:hover {background-color: #d4ebff;}#sk-container-id-4 div.sk-parallel-item::after {content: \"\";width: 100%;border-bottom: 1px solid gray;flex-grow: 1;}#sk-container-id-4 div.sk-label:hover label.sk-toggleable__label {background-color: #d4ebff;}#sk-container-id-4 div.sk-serial::before {content: \"\";position: absolute;border-left: 1px solid gray;box-sizing: border-box;top: 0;bottom: 0;left: 50%;z-index: 0;}#sk-container-id-4 div.sk-serial {display: flex;flex-direction: column;align-items: center;background-color: white;padding-right: 0.2em;padding-left: 0.2em;position: relative;}#sk-container-id-4 div.sk-item {position: relative;z-index: 1;}#sk-container-id-4 div.sk-parallel {display: flex;align-items: stretch;justify-content: center;background-color: white;position: relative;}#sk-container-id-4 div.sk-item::before, #sk-container-id-4 div.sk-parallel-item::before {content: \"\";position: absolute;border-left: 1px solid gray;box-sizing: border-box;top: 0;bottom: 0;left: 50%;z-index: -1;}#sk-container-id-4 div.sk-parallel-item {display: flex;flex-direction: column;z-index: 1;position: relative;background-color: white;}#sk-container-id-4 div.sk-parallel-item:first-child::after {align-self: flex-end;width: 50%;}#sk-container-id-4 div.sk-parallel-item:last-child::after {align-self: flex-start;width: 50%;}#sk-container-id-4 div.sk-parallel-item:only-child::after {width: 0;}#sk-container-id-4 div.sk-dashed-wrapped {border: 1px dashed gray;margin: 0 0.4em 0.5em 0.4em;box-sizing: border-box;padding-bottom: 0.4em;background-color: white;}#sk-container-id-4 div.sk-label label {font-family: monospace;font-weight: bold;display: inline-block;line-height: 1.2em;}#sk-container-id-4 div.sk-label-container {text-align: center;}#sk-container-id-4 div.sk-container {/* jupyter's `normalize.less` sets `[hidden] { display: none; }` but bootstrap.min.css set `[hidden] { display: none !important; }` so we also need the `!important` here to be able to override the default hidden behavior on the sphinx rendered scikit-learn.org. See: https://github.com/scikit-learn/scikit-learn/issues/21755 */display: inline-block !important;position: relative;}#sk-container-id-4 div.sk-text-repr-fallback {display: none;}</style><div id=\"sk-container-id-4\" class=\"sk-top-container\"><div class=\"sk-text-repr-fallback\"><pre>LogisticRegression(max_iter=50, multi_class=&#x27;ovr&#x27;, solver=&#x27;liblinear&#x27;)</pre><b>In a Jupyter environment, please rerun this cell to show the HTML representation or trust the notebook. <br />On GitHub, the HTML representation is unable to render, please try loading this page with nbviewer.org.</b></div><div class=\"sk-container\" hidden><div class=\"sk-item\"><div class=\"sk-estimator sk-toggleable\"><input class=\"sk-toggleable__control sk-hidden--visually\" id=\"sk-estimator-id-4\" type=\"checkbox\" checked><label for=\"sk-estimator-id-4\" class=\"sk-toggleable__label sk-toggleable__label-arrow\">LogisticRegression</label><div class=\"sk-toggleable__content\"><pre>LogisticRegression(max_iter=50, multi_class=&#x27;ovr&#x27;, solver=&#x27;liblinear&#x27;)</pre></div></div></div></div></div>"
            ]
          },
          "metadata": {},
          "execution_count": 43
        }
      ]
    },
    {
      "cell_type": "code",
      "source": [
        "# 5. Obtención del modelo\n",
        "b0 = logreg.intercept_\n",
        "b = logreg.coef_\n",
        "\n",
        "print(\"\\nHAY QUE CAMBIAR LOS VALORES DE PRUEBA: Z = {b0:0.2f} + {b1:0.2f} · HAY QUE CAMBIAR LOS VALORES DE PRUEBA + {b2:0.2f} · HAY QUE CAMBIAR LOS VALORES DE PRUEBA\"\n",
        "      .format(b0=b0[0], b1=b[0,0], b2=b[0,1]))\n",
        "\n",
        "print(\"\\nHAY QUE CAMBIAR LOS VALORES DE PRUEBA: Z = {b0:0.2f} + {b1:0.2f} · HAY QUE CAMBIAR LOS VALORES DE PRUEBA + {b2:0.2f} · HAY QUE CAMBIAR LOS VALORES DE PRUEBA\"\n",
        "      .format(b0=b0[1], b1=b[1,0], b2=b[1,1]))\n",
        "\n",
        "print(\"\\nHAY QUE CAMBIAR LOS VALORES DE PRUEBA: Z = {b0:0.2f} + {b1:0.2f} · HAY QUE CAMBIAR LOS VALORES DE PRUEBA + {b2:0.2f} · HAY QUE CAMBIAR LOS VALORES DE PRUEBA\"\n",
        "      .format(b0=b0[2], b1=b[2,0], b2=b[2,1]))"
      ],
      "metadata": {
        "id": "UHEetI5NHKBW"
      },
      "execution_count": null,
      "outputs": []
    },
    {
      "cell_type": "code",
      "source": [
        "# 6. Visualización de los resultados\n",
        "x_min, x_max = X[:, 0].min() - .5, X[:, 0].max() + .5\n",
        "y_min, y_max = X[:, 1].min() - .5, X[:, 1].max() + .5\n",
        "h = .01\n",
        "xx, yy = np.meshgrid(np.arange(x_min, x_max, h), np.arange(y_min, y_max, h))\n",
        "\n",
        "# Predicción de cada uno de los puntos de la malla\n",
        "Z = logreg.predict(np.c_[xx.ravel(), yy.ravel()])"
      ],
      "metadata": {
        "id": "URBaEkOtHZCX"
      },
      "execution_count": 45,
      "outputs": []
    },
    {
      "cell_type": "code",
      "source": [
        "Z = Z.reshape(xx.shape)\n",
        "plt.figure(1, figsize=(8, 6))\n",
        "\n",
        "# Dibujamos la malla con los diferentes colores\n",
        "plt.pcolormesh(xx, yy, Z, cmap=plt.cm.Pastel2)\n",
        "\n",
        "\n",
        "# Dibujamos los puntos (flores) del dataset\n",
        "plt.scatter(X[:, 0], X[:, 1], c=y, edgecolors='k', cmap=plt.cm.Pastel2)\n",
        "\n",
        "plt.title('Clasificación de canciones de Spotify')\n",
        "plt.xlabel('HAY QUE CAMBIAR LOS VALORES DE PRUEBA X')\n",
        "plt.ylabel('HAY QUE CAMBIAR LOS VALORES DE PRUEBA Y')\n",
        "plt.show()"
      ],
      "metadata": {
        "id": "oZ_DZTNEHdjd",
        "colab": {
          "base_uri": "https://localhost:8080/",
          "height": 565
        },
        "outputId": "29cedfe9-1357-44ff-87d2-52ad6f786580"
      },
      "execution_count": 46,
      "outputs": [
        {
          "output_type": "display_data",
          "data": {
            "text/plain": [
              "<Figure size 800x600 with 1 Axes>"
            ],
            "image/png": "[encoded data removed]"
          },
          "metadata": {}
        }
      ]
    },
    {
      "cell_type": "code",
      "source": [
        "# Cálculo de Predicción\n",
        "X_cancion = X_test[1]\n",
        "y_cancion = y_test[1]\n",
        "\n",
        "print('Cancion: X={} - y={} - Clase = {}'.format(X_cancion, y_cancion, le.inverse_transform([y_cancion])))"
      ],
      "metadata": {
        "colab": {
          "base_uri": "https://localhost:8080/"
        },
        "id": "Em9J6Dc7HtFx",
        "outputId": "6dd38901-665a-4201-c0c0-18114619e691"
      },
      "execution_count": 47,
      "outputs": [
        {
          "output_type": "stream",
          "name": "stdout",
          "text": [
            "Cancion: X=[0.17  0.123] - y=0 - Clase = [0]\n"
          ]
        }
      ]
    },
    {
      "cell_type": "code",
      "source": [
        "prediccion = logreg.predict([X_cancion])\n",
        "probabilidades = logreg.decision_function([X_cancion])\n",
        "\n",
        "print('Predicción -> Pertenece a la clase {}'.format(prediccion))\n",
        "print('Predicción Etiquetada -> Pertenece a la clase {}'.format(le.inverse_transform(prediccion)))\n",
        "print('Probabilidad de pertenencia a cada clase: ' + \\\n",
        "      '\\n\\t HAY QUE CAMBIAR LOS VALORES DE PRUEBA: {:0.2f}\\n\\t HAY QUE CAMBIAR LOS VALORES DE PRUEBA: {:0.2f}\\n\\t HAY QUE CAMBIAR LOS VALORES DE PRUEBA: {:0.2f}' \\\n",
        "     .format(probabilidades[0,0], probabilidades[0,1], probabilidades[0,2]))"
      ],
      "metadata": {
        "id": "arS3qHQyH3nl"
      },
      "execution_count": null,
      "outputs": []
    },
    {
      "cell_type": "markdown",
      "source": [
        "# Modelos de Machine Learning:"
      ],
      "metadata": {
        "id": "UNtl02HN9fzq"
      }
    },
    {
      "cell_type": "markdown",
      "source": [
        "## KNN (K-Nearest Neighbors)"
      ],
      "metadata": {
        "id": "mVeCXqZE9nTL"
      }
    },
    {
      "cell_type": "code",
      "source": [
        "muestras = 100\n",
        "\n",
        "mediaX1 = 80\n",
        "desvioX1 = 20\n",
        "\n",
        "mediaY1 = 20\n",
        "desvioY1 = 25\n",
        "\n",
        "mediaX2 = 20\n",
        "desvioX2 = 25\n",
        "\n",
        "mediaY2 = 60\n",
        "desvioY2 = 20\n",
        "\n",
        "\n",
        "X1 = pd.Series(np.random.normal(loc=mediaX1, scale=desvioX1, size=muestras))\n",
        "Y1 = pd.Series(np.random.normal(loc=mediaY1, scale=desvioY1, size=muestras))\n",
        "Data1 = pd.DataFrame({'color':'red', 'target':0, 'x':X1, 'y':Y1})\n",
        "\n",
        "\n",
        "X2 = pd.Series(np.random.normal(loc=mediaX2, scale=desvioX2, size=muestras))\n",
        "Y2 = pd.Series(np.random.normal(loc=mediaY2, scale=desvioY2, size=muestras))\n",
        "Data2 = pd.DataFrame({'color':'blue', 'target':1, 'x':X2, 'y':Y2})\n",
        "\n",
        "\n",
        "Dataset_Multivariado = pd.concat([Data1, Data2], ignore_index=True, axis=0)\n",
        "\n",
        "sns.jointplot(data=Dataset_Multivariado, x=\"x\", y=\"y\", kind=\"scatter\", hue=\"target\")\n",
        ""
      ],
      "metadata": {
        "id": "Zk7JaMG1Bkiq",
        "colab": {
          "base_uri": "https://localhost:8080/",
          "height": 624
        },
        "outputId": "8d7bd237-98e2-486e-cca8-f5e54f769330"
      },
      "execution_count": 42,
      "outputs": [
        {
          "output_type": "execute_result",
          "data": {
            "text/plain": [
              "<seaborn.axisgrid.JointGrid at 0x7ee042169090>"
            ]
          },
          "metadata": {},
          "execution_count": 42
        },
        {
          "output_type": "display_data",
          "data": {
            "text/plain": [
              "<Figure size 600x600 with 3 Axes>"
            ],
            "image/png": "[encoded data removed]"
          },
          "metadata": {}
        }
      ]
    },
    {
      "cell_type": "code",
      "source": [
        "from sklearn.model_selection import train_test_split\n",
        "\n",
        "X= Dataset_Multivariado[['x','y']].to_numpy()\n",
        "y= Dataset_Multivariado[['target']].to_numpy()\n",
        "\n",
        "X_train, X_test, y_train, y_test= train_test_split(X, y, test_size= 0.5, random_state=42)"
      ],
      "metadata": {
        "id": "3PZS8w9sakY7"
      },
      "execution_count": 49,
      "outputs": []
    },
    {
      "cell_type": "code",
      "source": [
        "clasificadorKNN = KNeighborsClassifier(n_neighbors=2)\n",
        "clasificadorKNN.fit(X_train, y_train.ravel())"
      ],
      "metadata": {
        "colab": {
          "base_uri": "https://localhost:8080/",
          "height": 75
        },
        "id": "jiUa0lMAalK9",
        "outputId": "183edf99-e8c3-4323-97a5-f6c9dcfee5c8"
      },
      "execution_count": 50,
      "outputs": [
        {
          "output_type": "execute_result",
          "data": {
            "text/plain": [
              "KNeighborsClassifier(n_neighbors=2)"
            ],
            "text/html": [
              "<style>#sk-container-id-5 {color: black;background-color: white;}#sk-container-id-5 pre{padding: 0;}#sk-container-id-5 div.sk-toggleable {background-color: white;}#sk-container-id-5 label.sk-toggleable__label {cursor: pointer;display: block;width: 100%;margin-bottom: 0;padding: 0.3em;box-sizing: border-box;text-align: center;}#sk-container-id-5 label.sk-toggleable__label-arrow:before {content: \"▸\";float: left;margin-right: 0.25em;color: #696969;}#sk-container-id-5 label.sk-toggleable__label-arrow:hover:before {color: black;}#sk-container-id-5 div.sk-estimator:hover label.sk-toggleable__label-arrow:before {color: black;}#sk-container-id-5 div.sk-toggleable__content {max-height: 0;max-width: 0;overflow: hidden;text-align: left;background-color: #f0f8ff;}#sk-container-id-5 div.sk-toggleable__content pre {margin: 0.2em;color: black;border-radius: 0.25em;background-color: #f0f8ff;}#sk-container-id-5 input.sk-toggleable__control:checked~div.sk-toggleable__content {max-height: 200px;max-width: 100%;overflow: auto;}#sk-container-id-5 input.sk-toggleable__control:checked~label.sk-toggleable__label-arrow:before {content: \"▾\";}#sk-container-id-5 div.sk-estimator input.sk-toggleable__control:checked~label.sk-toggleable__label {background-color: #d4ebff;}#sk-container-id-5 div.sk-label input.sk-toggleable__control:checked~label.sk-toggleable__label {background-color: #d4ebff;}#sk-container-id-5 input.sk-hidden--visually {border: 0;clip: rect(1px 1px 1px 1px);clip: rect(1px, 1px, 1px, 1px);height: 1px;margin: -1px;overflow: hidden;padding: 0;position: absolute;width: 1px;}#sk-container-id-5 div.sk-estimator {font-family: monospace;background-color: #f0f8ff;border: 1px dotted black;border-radius: 0.25em;box-sizing: border-box;margin-bottom: 0.5em;}#sk-container-id-5 div.sk-estimator:hover {background-color: #d4ebff;}#sk-container-id-5 div.sk-parallel-item::after {content: \"\";width: 100%;border-bottom: 1px solid gray;flex-grow: 1;}#sk-container-id-5 div.sk-label:hover label.sk-toggleable__label {background-color: #d4ebff;}#sk-container-id-5 div.sk-serial::before {content: \"\";position: absolute;border-left: 1px solid gray;box-sizing: border-box;top: 0;bottom: 0;left: 50%;z-index: 0;}#sk-container-id-5 div.sk-serial {display: flex;flex-direction: column;align-items: center;background-color: white;padding-right: 0.2em;padding-left: 0.2em;position: relative;}#sk-container-id-5 div.sk-item {position: relative;z-index: 1;}#sk-container-id-5 div.sk-parallel {display: flex;align-items: stretch;justify-content: center;background-color: white;position: relative;}#sk-container-id-5 div.sk-item::before, #sk-container-id-5 div.sk-parallel-item::before {content: \"\";position: absolute;border-left: 1px solid gray;box-sizing: border-box;top: 0;bottom: 0;left: 50%;z-index: -1;}#sk-container-id-5 div.sk-parallel-item {display: flex;flex-direction: column;z-index: 1;position: relative;background-color: white;}#sk-container-id-5 div.sk-parallel-item:first-child::after {align-self: flex-end;width: 50%;}#sk-container-id-5 div.sk-parallel-item:last-child::after {align-self: flex-start;width: 50%;}#sk-container-id-5 div.sk-parallel-item:only-child::after {width: 0;}#sk-container-id-5 div.sk-dashed-wrapped {border: 1px dashed gray;margin: 0 0.4em 0.5em 0.4em;box-sizing: border-box;padding-bottom: 0.4em;background-color: white;}#sk-container-id-5 div.sk-label label {font-family: monospace;font-weight: bold;display: inline-block;line-height: 1.2em;}#sk-container-id-5 div.sk-label-container {text-align: center;}#sk-container-id-5 div.sk-container {/* jupyter's `normalize.less` sets `[hidden] { display: none; }` but bootstrap.min.css set `[hidden] { display: none !important; }` so we also need the `!important` here to be able to override the default hidden behavior on the sphinx rendered scikit-learn.org. See: https://github.com/scikit-learn/scikit-learn/issues/21755 */display: inline-block !important;position: relative;}#sk-container-id-5 div.sk-text-repr-fallback {display: none;}</style><div id=\"sk-container-id-5\" class=\"sk-top-container\"><div class=\"sk-text-repr-fallback\"><pre>KNeighborsClassifier(n_neighbors=2)</pre><b>In a Jupyter environment, please rerun this cell to show the HTML representation or trust the notebook. <br />On GitHub, the HTML representation is unable to render, please try loading this page with nbviewer.org.</b></div><div class=\"sk-container\" hidden><div class=\"sk-item\"><div class=\"sk-estimator sk-toggleable\"><input class=\"sk-toggleable__control sk-hidden--visually\" id=\"sk-estimator-id-5\" type=\"checkbox\" checked><label for=\"sk-estimator-id-5\" class=\"sk-toggleable__label sk-toggleable__label-arrow\">KNeighborsClassifier</label><div class=\"sk-toggleable__content\"><pre>KNeighborsClassifier(n_neighbors=2)</pre></div></div></div></div></div>"
            ]
          },
          "metadata": {},
          "execution_count": 50
        }
      ]
    },
    {
      "cell_type": "markdown",
      "source": [
        "## SVM (Support Vector Machines)"
      ],
      "metadata": {
        "id": "XthLic8B96Jc"
      }
    },
    {
      "cell_type": "code",
      "source": [
        "# Máquina de vectores de soporte (SVM)\n",
        "from sklearn.svm import SVC\n",
        "\n",
        "svc = SVC(kernel='linear') # Clasificador\n",
        "svc.fit(X_train, y_train) # Entrenar\n",
        "svc.predict(X_test) # Predecir\n",
        "svc.score(X_test,y_test) # Evaluar"
      ],
      "metadata": {
        "colab": {
          "base_uri": "https://localhost:8080/"
        },
        "id": "itmeEHba9bna",
        "outputId": "cdf7ddf3-1c18-4cd5-bb1b-0c78b027c883"
      },
      "execution_count": 24,
      "outputs": [
        {
          "output_type": "execute_result",
          "data": {
            "text/plain": [
              "0.6138613861386139"
            ]
          },
          "metadata": {},
          "execution_count": 24
        }
      ]
    },
    {
      "cell_type": "markdown",
      "source": [
        "## Árbol de decisión"
      ],
      "metadata": {
        "id": "UqO9ktwD-MSy"
      }
    },
    {
      "cell_type": "code",
      "source": [
        "# Árbol de decisiones\n",
        "from sklearn.tree import DecisionTreeClassifier\n",
        "\n",
        "dtc = DecisionTreeClassifier # Clasificador\n",
        "dtc.fit(X_train, y_train) # Entrenar\n",
        "dtc.predict(X_test) # Predecir\n",
        "dtc.score(X_test,y_test) # Evaluar"
      ],
      "metadata": {
        "colab": {
          "base_uri": "https://localhost:8080/",
          "height": 245
        },
        "id": "n1qpW2dY-VGe",
        "outputId": "c57e1b91-9d6e-4292-9f12-b5524303600b"
      },
      "execution_count": 25,
      "outputs": [
        {
          "output_type": "error",
          "ename": "TypeError",
          "evalue": "ignored",
          "traceback": [
            "\u001b[0;31m---------------------------------------------------------------------------\u001b[0m",
            "\u001b[0;31mTypeError\u001b[0m                                 Traceback (most recent call last)",
            "\u001b[0;32m<ipython-input-25-b040989956da>\u001b[0m in \u001b[0;36m<cell line: 5>\u001b[0;34m()\u001b[0m\n\u001b[1;32m      3\u001b[0m \u001b[0;34m\u001b[0m\u001b[0m\n\u001b[1;32m      4\u001b[0m \u001b[0mdtc\u001b[0m \u001b[0;34m=\u001b[0m \u001b[0mDecisionTreeClassifier\u001b[0m \u001b[0;31m# Clasificador\u001b[0m\u001b[0;34m\u001b[0m\u001b[0;34m\u001b[0m\u001b[0m\n\u001b[0;32m----> 5\u001b[0;31m \u001b[0mdtc\u001b[0m\u001b[0;34m.\u001b[0m\u001b[0mfit\u001b[0m\u001b[0;34m(\u001b[0m\u001b[0mX_train\u001b[0m\u001b[0;34m,\u001b[0m \u001b[0my_train\u001b[0m\u001b[0;34m)\u001b[0m \u001b[0;31m# Entrenar\u001b[0m\u001b[0;34m\u001b[0m\u001b[0;34m\u001b[0m\u001b[0m\n\u001b[0m\u001b[1;32m      6\u001b[0m \u001b[0mdtc\u001b[0m\u001b[0;34m.\u001b[0m\u001b[0mpredict\u001b[0m\u001b[0;34m(\u001b[0m\u001b[0mX_test\u001b[0m\u001b[0;34m)\u001b[0m \u001b[0;31m# Predecir\u001b[0m\u001b[0;34m\u001b[0m\u001b[0;34m\u001b[0m\u001b[0m\n\u001b[1;32m      7\u001b[0m \u001b[0mdtc\u001b[0m\u001b[0;34m.\u001b[0m\u001b[0mscore\u001b[0m\u001b[0;34m(\u001b[0m\u001b[0mX_test\u001b[0m\u001b[0;34m,\u001b[0m\u001b[0my_test\u001b[0m\u001b[0;34m)\u001b[0m \u001b[0;31m# Evaluar\u001b[0m\u001b[0;34m\u001b[0m\u001b[0;34m\u001b[0m\u001b[0m\n",
            "\u001b[0;31mTypeError\u001b[0m: DecisionTreeClassifier.fit() missing 1 required positional argument: 'y'"
          ]
        }
      ]
    },
    {
      "cell_type": "markdown",
      "source": [
        "## Bayes (Naive Bayes)"
      ],
      "metadata": {
        "id": "mwM03orG-MJo"
      }
    },
    {
      "cell_type": "code",
      "source": [
        "# Naive Bayes\n",
        "from sklearn.naive_bayes import GaussianNB\n",
        "\n",
        "gnb = GaussianNB()# Clasificador\n",
        "gnb.fit(X_train, y_train) # Entrenar\n",
        "gnb.predict(X_test) # Predecir\n",
        "gnb.score(X_test,y_test) # Evaluar"
      ],
      "metadata": {
        "colab": {
          "base_uri": "https://localhost:8080/"
        },
        "id": "cB4dgTfv-eja",
        "outputId": "6676e60b-90d3-4840-d0e0-9e17f653f244"
      },
      "execution_count": 26,
      "outputs": [
        {
          "output_type": "execute_result",
          "data": {
            "text/plain": [
              "0.5841584158415841"
            ]
          },
          "metadata": {},
          "execution_count": 26
        }
      ]
    },
    {
      "cell_type": "markdown",
      "source": [
        "## Otro modelo que crean conveniente"
      ],
      "metadata": {
        "id": "GUL6zPPAA98k"
      }
    },
    {
      "cell_type": "code",
      "source": [
        "# K-means (El vecino mas cercano)\n",
        "from sklearn.neighbors import KNeighborsClassifier\n",
        "\n",
        "knn = KNeighborsClassifier(n_neighbors=7) # Clasificador (n_neighbors = número de vecinos)\n",
        "knn.fit(X_train, y_train) # Entrenar\n",
        "knn.predict(X_test) # Predecir\n",
        "knn.score(X_test,y_test) # Evaluar"
      ],
      "metadata": {
        "colab": {
          "base_uri": "https://localhost:8080/"
        },
        "id": "vywakxzaA_K9",
        "outputId": "90e39ff9-4744-4ae7-da3f-52756c9673a1"
      },
      "execution_count": 27,
      "outputs": [
        {
          "output_type": "execute_result",
          "data": {
            "text/plain": [
              "0.5495049504950495"
            ]
          },
          "metadata": {},
          "execution_count": 27
        }
      ]
    },
    {
      "cell_type": "code",
      "source": [
        "# Random Forest\n",
        "from sklearn.ensemble import RandomForestClassifier\n",
        "\n",
        "rfc = RandomForestClassifier() # Clasificador\n",
        "svc.fit(X_train, y_train) # Entrenar\n",
        "svc.predict(X_test) # Predecir\n",
        "svc.score(X_test,y_test) # Evaluar"
      ],
      "metadata": {
        "colab": {
          "base_uri": "https://localhost:8080/"
        },
        "id": "znAuQjmtBaaW",
        "outputId": "defec41d-6ed1-4dea-a969-2d517c472b7a"
      },
      "execution_count": 28,
      "outputs": [
        {
          "output_type": "execute_result",
          "data": {
            "text/plain": [
              "0.6138613861386139"
            ]
          },
          "metadata": {},
          "execution_count": 28
        }
      ]
    },
    {
      "cell_type": "markdown",
      "source": [
        "# Realizar algún tipo de validación:\n",
        "\n",
        "\n",
        "\n"
      ],
      "metadata": {
        "id": "GNDJiqGD-icd"
      }
    },
    {
      "cell_type": "markdown",
      "source": [
        "## Validación Simple"
      ],
      "metadata": {
        "id": "ATB-OOR5-uUc"
      }
    },
    {
      "cell_type": "markdown",
      "source": [
        "## Validación Cruzada k-fold\n",
        "\n"
      ],
      "metadata": {
        "id": "o3EGca3P-t-4"
      }
    },
    {
      "cell_type": "markdown",
      "source": [
        "# Evaluación y análisis del rendimiento de cada modelo:"
      ],
      "metadata": {
        "id": "UzC2Xq2k_GPr"
      }
    },
    {
      "cell_type": "markdown",
      "source": [
        "## Matriz de confusión"
      ],
      "metadata": {
        "id": "CWTfO3rr63F4"
      }
    },
    {
      "cell_type": "code",
      "source": [
        "import numpy as np\n",
        "import matplotlib.pyplot as plt\n",
        "import itertools\n",
        "%matplotlib inline\n",
        "\n",
        "def plot_confusion_matrix(cm, classes, title, cmap=plt.cm.Blues):\n",
        "    \"\"\"\n",
        "    This function prints and plots the confusion matrix.\n",
        "    \"\"\"\n",
        "    plt.imshow(cm, interpolation='nearest', cmap=cmap)\n",
        "    plt.title(title)\n",
        "    plt.colorbar()\n",
        "    tick_marks = np.arange(len(classes))\n",
        "    plt.xticks(tick_marks, classes, rotation=45)\n",
        "    plt.yticks(tick_marks, classes)\n",
        "\n",
        "    thresh = cm.max() / 2.\n",
        "    for i, j in itertools.product(range(cm.shape[0]), range(cm.shape[1])):\n",
        "        plt.text(j, i, format(cm[i, j], 'd'), horizontalalignment=\"center\",\n",
        "                 color=\"white\" if cm[i, j] > thresh else \"black\")\n",
        "\n",
        "    plt.tight_layout()\n",
        "    plt.ylabel('True label')\n",
        "    plt.xlabel('Predicted label')\n",
        "\n",
        "plt.figure()\n",
        "matriz_confusion = confusion_matrix(y_true=y_real, y_pred=y_predict, labels=[1, 0])\n",
        "plot_confusion_matrix(matriz_confusion, classes=['Clase 1', 'Clase 0'], title='Matriz de Confusión')\n",
        "plt.show()"
      ],
      "metadata": {
        "id": "9tF9EYGHbuad",
        "colab": {
          "base_uri": "https://localhost:8080/",
          "height": 262
        },
        "outputId": "75099841-76a2-47f3-f6ed-c33feaae9eb9"
      },
      "execution_count": 29,
      "outputs": [
        {
          "output_type": "error",
          "ename": "NameError",
          "evalue": "ignored",
          "traceback": [
            "\u001b[0;31m---------------------------------------------------------------------------\u001b[0m",
            "\u001b[0;31mNameError\u001b[0m                                 Traceback (most recent call last)",
            "\u001b[0;32m<ipython-input-29-081f97d36033>\u001b[0m in \u001b[0;36m<cell line: 27>\u001b[0;34m()\u001b[0m\n\u001b[1;32m     25\u001b[0m \u001b[0;34m\u001b[0m\u001b[0m\n\u001b[1;32m     26\u001b[0m \u001b[0mplt\u001b[0m\u001b[0;34m.\u001b[0m\u001b[0mfigure\u001b[0m\u001b[0;34m(\u001b[0m\u001b[0;34m)\u001b[0m\u001b[0;34m\u001b[0m\u001b[0;34m\u001b[0m\u001b[0m\n\u001b[0;32m---> 27\u001b[0;31m \u001b[0mmatriz_confusion\u001b[0m \u001b[0;34m=\u001b[0m \u001b[0mconfusion_matrix\u001b[0m\u001b[0;34m(\u001b[0m\u001b[0my_true\u001b[0m\u001b[0;34m=\u001b[0m\u001b[0my_real\u001b[0m\u001b[0;34m,\u001b[0m \u001b[0my_pred\u001b[0m\u001b[0;34m=\u001b[0m\u001b[0my_predict\u001b[0m\u001b[0;34m,\u001b[0m \u001b[0mlabels\u001b[0m\u001b[0;34m=\u001b[0m\u001b[0;34m[\u001b[0m\u001b[0;36m1\u001b[0m\u001b[0;34m,\u001b[0m \u001b[0;36m0\u001b[0m\u001b[0;34m]\u001b[0m\u001b[0;34m)\u001b[0m\u001b[0;34m\u001b[0m\u001b[0;34m\u001b[0m\u001b[0m\n\u001b[0m\u001b[1;32m     28\u001b[0m \u001b[0mplot_confusion_matrix\u001b[0m\u001b[0;34m(\u001b[0m\u001b[0mmatriz_confusion\u001b[0m\u001b[0;34m,\u001b[0m \u001b[0mclasses\u001b[0m\u001b[0;34m=\u001b[0m\u001b[0;34m[\u001b[0m\u001b[0;34m'Clase 1'\u001b[0m\u001b[0;34m,\u001b[0m \u001b[0;34m'Clase 0'\u001b[0m\u001b[0;34m]\u001b[0m\u001b[0;34m,\u001b[0m \u001b[0mtitle\u001b[0m\u001b[0;34m=\u001b[0m\u001b[0;34m'Matriz de Confusión'\u001b[0m\u001b[0;34m)\u001b[0m\u001b[0;34m\u001b[0m\u001b[0;34m\u001b[0m\u001b[0m\n\u001b[1;32m     29\u001b[0m \u001b[0mplt\u001b[0m\u001b[0;34m.\u001b[0m\u001b[0mshow\u001b[0m\u001b[0;34m(\u001b[0m\u001b[0;34m)\u001b[0m\u001b[0;34m\u001b[0m\u001b[0;34m\u001b[0m\u001b[0m\n",
            "\u001b[0;31mNameError\u001b[0m: name 'confusion_matrix' is not defined"
          ]
        },
        {
          "output_type": "display_data",
          "data": {
            "text/plain": [
              "<Figure size 640x480 with 0 Axes>"
            ]
          },
          "metadata": {}
        }
      ]
    },
    {
      "cell_type": "markdown",
      "source": [
        "## Precision\n",
        "\n",
        "* Basandonos en el ejemplo, calculamos la precision como:\n",
        "\n",
        "$$Precision = \\frac{TP}{TP + FP} = \\frac{4}{4 + 2} = \\frac{4}{6} = 0.67$$"
      ],
      "metadata": {
        "id": "CiknsjWo7Lly"
      }
    },
    {
      "cell_type": "code",
      "source": [
        "from sklearn.metrics import precision_score\n",
        "\n",
        "precision_score(y_true=y_real, y_pred=y_predict, average='macro')"
      ],
      "metadata": {
        "id": "qKfu9YM1buOv",
        "colab": {
          "base_uri": "https://localhost:8080/",
          "height": 210
        },
        "outputId": "0c2310c9-14ea-4b85-a06a-500c1c3dce4b"
      },
      "execution_count": 30,
      "outputs": [
        {
          "output_type": "error",
          "ename": "NameError",
          "evalue": "ignored",
          "traceback": [
            "\u001b[0;31m---------------------------------------------------------------------------\u001b[0m",
            "\u001b[0;31mNameError\u001b[0m                                 Traceback (most recent call last)",
            "\u001b[0;32m<ipython-input-30-c911c93273d9>\u001b[0m in \u001b[0;36m<cell line: 3>\u001b[0;34m()\u001b[0m\n\u001b[1;32m      1\u001b[0m \u001b[0;32mfrom\u001b[0m \u001b[0msklearn\u001b[0m\u001b[0;34m.\u001b[0m\u001b[0mmetrics\u001b[0m \u001b[0;32mimport\u001b[0m \u001b[0mprecision_score\u001b[0m\u001b[0;34m\u001b[0m\u001b[0;34m\u001b[0m\u001b[0m\n\u001b[1;32m      2\u001b[0m \u001b[0;34m\u001b[0m\u001b[0m\n\u001b[0;32m----> 3\u001b[0;31m \u001b[0mprecision_score\u001b[0m\u001b[0;34m(\u001b[0m\u001b[0my_true\u001b[0m\u001b[0;34m=\u001b[0m\u001b[0my_real\u001b[0m\u001b[0;34m,\u001b[0m \u001b[0my_pred\u001b[0m\u001b[0;34m=\u001b[0m\u001b[0my_predict\u001b[0m\u001b[0;34m,\u001b[0m \u001b[0maverage\u001b[0m\u001b[0;34m=\u001b[0m\u001b[0;34m'macro'\u001b[0m\u001b[0;34m)\u001b[0m\u001b[0;34m\u001b[0m\u001b[0;34m\u001b[0m\u001b[0m\n\u001b[0m",
            "\u001b[0;31mNameError\u001b[0m: name 'y_real' is not defined"
          ]
        }
      ]
    },
    {
      "cell_type": "markdown",
      "source": [
        "## Recall\n",
        "\n",
        "* Basandonos en el ejemplo, calculamos el recall como:\n",
        "\n",
        "$$Recall = \\frac{TP}{TP + FN} = \\frac{4}{4 + 1} = \\frac{4}{5} = 0.8$$"
      ],
      "metadata": {
        "id": "geN2v0tJ7bhg"
      }
    },
    {
      "cell_type": "code",
      "source": [
        "from sklearn.metrics import recall_score\n",
        "\n",
        "recall_score(y_true=y_real, y_pred=y_predict, average='macro')"
      ],
      "metadata": {
        "colab": {
          "base_uri": "https://localhost:8080/",
          "height": 210
        },
        "id": "QPbbQ-n_7bGM",
        "outputId": "6101ce6d-363b-4885-accd-a8ead93505bf"
      },
      "execution_count": 31,
      "outputs": [
        {
          "output_type": "error",
          "ename": "NameError",
          "evalue": "ignored",
          "traceback": [
            "\u001b[0;31m---------------------------------------------------------------------------\u001b[0m",
            "\u001b[0;31mNameError\u001b[0m                                 Traceback (most recent call last)",
            "\u001b[0;32m<ipython-input-31-9edb77f3c2e0>\u001b[0m in \u001b[0;36m<cell line: 3>\u001b[0;34m()\u001b[0m\n\u001b[1;32m      1\u001b[0m \u001b[0;32mfrom\u001b[0m \u001b[0msklearn\u001b[0m\u001b[0;34m.\u001b[0m\u001b[0mmetrics\u001b[0m \u001b[0;32mimport\u001b[0m \u001b[0mrecall_score\u001b[0m\u001b[0;34m\u001b[0m\u001b[0;34m\u001b[0m\u001b[0m\n\u001b[1;32m      2\u001b[0m \u001b[0;34m\u001b[0m\u001b[0m\n\u001b[0;32m----> 3\u001b[0;31m \u001b[0mrecall_score\u001b[0m\u001b[0;34m(\u001b[0m\u001b[0my_true\u001b[0m\u001b[0;34m=\u001b[0m\u001b[0my_real\u001b[0m\u001b[0;34m,\u001b[0m \u001b[0my_pred\u001b[0m\u001b[0;34m=\u001b[0m\u001b[0my_predict\u001b[0m\u001b[0;34m,\u001b[0m \u001b[0maverage\u001b[0m\u001b[0;34m=\u001b[0m\u001b[0;34m'macro'\u001b[0m\u001b[0;34m)\u001b[0m\u001b[0;34m\u001b[0m\u001b[0;34m\u001b[0m\u001b[0m\n\u001b[0m",
            "\u001b[0;31mNameError\u001b[0m: name 'y_real' is not defined"
          ]
        }
      ]
    },
    {
      "cell_type": "markdown",
      "source": [
        "## F1\n",
        "\n",
        "* Basandonos en el ejemplo, calculamos el F1 como:\n",
        "\n",
        "$$F1 = 2 \\cdot \\frac{Precision \\cdot Recall}{Precision + Recall} = 2 \\cdot \\frac{0.67 \\cdot 0.8}{0.67 + 0.8} = 2 \\cdot \\frac{0.54}{1.47} = 0.73$$"
      ],
      "metadata": {
        "id": "JJ8Gd8-B7a0z"
      }
    },
    {
      "cell_type": "code",
      "source": [
        "from sklearn.metrics import f1_score\n",
        "\n",
        "f1_score(y_true=y_real, y_pred=y_predict, average='macro')"
      ],
      "metadata": {
        "colab": {
          "base_uri": "https://localhost:8080/",
          "height": 210
        },
        "id": "YfcbIpcb7nKI",
        "outputId": "a6e269b6-040f-4fcd-d7ce-f9cf73a37606"
      },
      "execution_count": 32,
      "outputs": [
        {
          "output_type": "error",
          "ename": "NameError",
          "evalue": "ignored",
          "traceback": [
            "\u001b[0;31m---------------------------------------------------------------------------\u001b[0m",
            "\u001b[0;31mNameError\u001b[0m                                 Traceback (most recent call last)",
            "\u001b[0;32m<ipython-input-32-4a6b0dd7dec0>\u001b[0m in \u001b[0;36m<cell line: 3>\u001b[0;34m()\u001b[0m\n\u001b[1;32m      1\u001b[0m \u001b[0;32mfrom\u001b[0m \u001b[0msklearn\u001b[0m\u001b[0;34m.\u001b[0m\u001b[0mmetrics\u001b[0m \u001b[0;32mimport\u001b[0m \u001b[0mf1_score\u001b[0m\u001b[0;34m\u001b[0m\u001b[0;34m\u001b[0m\u001b[0m\n\u001b[1;32m      2\u001b[0m \u001b[0;34m\u001b[0m\u001b[0m\n\u001b[0;32m----> 3\u001b[0;31m \u001b[0mf1_score\u001b[0m\u001b[0;34m(\u001b[0m\u001b[0my_true\u001b[0m\u001b[0;34m=\u001b[0m\u001b[0my_real\u001b[0m\u001b[0;34m,\u001b[0m \u001b[0my_pred\u001b[0m\u001b[0;34m=\u001b[0m\u001b[0my_predict\u001b[0m\u001b[0;34m,\u001b[0m \u001b[0maverage\u001b[0m\u001b[0;34m=\u001b[0m\u001b[0;34m'macro'\u001b[0m\u001b[0;34m)\u001b[0m\u001b[0;34m\u001b[0m\u001b[0;34m\u001b[0m\u001b[0m\n\u001b[0m",
            "\u001b[0;31mNameError\u001b[0m: name 'y_real' is not defined"
          ]
        }
      ]
    },
    {
      "cell_type": "markdown",
      "source": [
        "### Clasificación Múltiple"
      ],
      "metadata": {
        "id": "h3by1nbC7tkF"
      }
    },
    {
      "cell_type": "code",
      "source": [
        "from sklearn.metrics import classification_report\n",
        "\n",
        "print(classification_report(y_true=y_real, y_pred=y_predict))"
      ],
      "metadata": {
        "colab": {
          "base_uri": "https://localhost:8080/",
          "height": 210
        },
        "id": "dHZgL7Dx7tUH",
        "outputId": "e00b8605-7350-441a-fa41-315d20ba7ae7"
      },
      "execution_count": 33,
      "outputs": [
        {
          "output_type": "error",
          "ename": "NameError",
          "evalue": "ignored",
          "traceback": [
            "\u001b[0;31m---------------------------------------------------------------------------\u001b[0m",
            "\u001b[0;31mNameError\u001b[0m                                 Traceback (most recent call last)",
            "\u001b[0;32m<ipython-input-33-885e3125258c>\u001b[0m in \u001b[0;36m<cell line: 3>\u001b[0;34m()\u001b[0m\n\u001b[1;32m      1\u001b[0m \u001b[0;32mfrom\u001b[0m \u001b[0msklearn\u001b[0m\u001b[0;34m.\u001b[0m\u001b[0mmetrics\u001b[0m \u001b[0;32mimport\u001b[0m \u001b[0mclassification_report\u001b[0m\u001b[0;34m\u001b[0m\u001b[0;34m\u001b[0m\u001b[0m\n\u001b[1;32m      2\u001b[0m \u001b[0;34m\u001b[0m\u001b[0m\n\u001b[0;32m----> 3\u001b[0;31m \u001b[0mprint\u001b[0m\u001b[0;34m(\u001b[0m\u001b[0mclassification_report\u001b[0m\u001b[0;34m(\u001b[0m\u001b[0my_true\u001b[0m\u001b[0;34m=\u001b[0m\u001b[0my_real\u001b[0m\u001b[0;34m,\u001b[0m \u001b[0my_pred\u001b[0m\u001b[0;34m=\u001b[0m\u001b[0my_predict\u001b[0m\u001b[0;34m)\u001b[0m\u001b[0;34m)\u001b[0m\u001b[0;34m\u001b[0m\u001b[0;34m\u001b[0m\u001b[0m\n\u001b[0m",
            "\u001b[0;31mNameError\u001b[0m: name 'y_real' is not defined"
          ]
        }
      ]
    },
    {
      "cell_type": "markdown",
      "source": [
        "# Ajustar para cada uno de los modelos los hiper parámetros:"
      ],
      "metadata": {
        "id": "YKBE1FNA7tBW"
      }
    },
    {
      "cell_type": "markdown",
      "source": [
        "## Grid Search"
      ],
      "metadata": {
        "id": "sbTjy-oJ87m3"
      }
    },
    {
      "cell_type": "code",
      "source": [
        "from sklearn.model_selection import GridSearchCV\n",
        "\n",
        "parameters = {'kernel': ['linear', 'rbf'], 'C': [0.1, 1, 10], 'gamma': [0.1, 1, 10]}\n",
        "svc = SVC()\n",
        "clf = GridSearchCV(svc, parameters, scoring='f1_macro')\n",
        "clf.fit(X_train, y_train)\n",
        "\n",
        "print(\"Mejores parámetros:\", clf.best_params_)\n",
        "\n",
        "print(\"Mejor score:\", clf.best_score_)"
      ],
      "metadata": {
        "id": "Nzh4S5KkRdGR",
        "colab": {
          "base_uri": "https://localhost:8080/"
        },
        "outputId": "de9604ec-0542-410f-d510-432240775dda"
      },
      "execution_count": 34,
      "outputs": [
        {
          "output_type": "stream",
          "name": "stdout",
          "text": [
            "Mejores parámetros: {'C': 10, 'gamma': 10, 'kernel': 'rbf'}\n",
            "Mejor score: 0.5328607859502371\n"
          ]
        }
      ]
    },
    {
      "cell_type": "code",
      "source": [],
      "metadata": {
        "id": "w40a5tNwRhxA"
      },
      "execution_count": null,
      "outputs": []
    },
    {
      "cell_type": "markdown",
      "source": [
        "## Random Search"
      ],
      "metadata": {
        "id": "iDoM7nl57un7"
      }
    },
    {
      "cell_type": "markdown",
      "source": [
        "# Realizar un ensamble de los modelos:"
      ],
      "metadata": {
        "id": "eSwJCHIGATv5"
      }
    },
    {
      "cell_type": "markdown",
      "source": [
        "## Votación Mayoritaria"
      ],
      "metadata": {
        "id": "DIDVS-z0AZtx"
      }
    },
    {
      "cell_type": "markdown",
      "source": [
        "# Evaluación y análisis del rendimiento:"
      ],
      "metadata": {
        "id": "ZwQv0VCfAhKW"
      }
    },
    {
      "cell_type": "markdown",
      "source": [
        "## Matriz de confusión"
      ],
      "metadata": {
        "id": "mN1G06U-Ato_"
      }
    },
    {
      "cell_type": "code",
      "source": [
        "plt.figure()\n",
        "matriz_confusion = confusion_matrix(y_true=y_real, y_pred=y_predict, labels=[0, 1, 2])\n",
        "plot_confusion_matrix(matriz_confusion, classes=['Clase 0', 'Clase 1', 'Clase 2'], title='Matriz de Confusión')\n",
        "plt.show()"
      ],
      "metadata": {
        "colab": {
          "base_uri": "https://localhost:8080/",
          "height": 506
        },
        "id": "UjYEfzlxBRx9",
        "outputId": "cc3bec15-be1f-4c49-bb90-d208145166b8"
      },
      "execution_count": null,
      "outputs": [
        {
          "output_type": "display_data",
          "data": {
            "text/plain": [
              "<Figure size 640x480 with 2 Axes>"
            ],
            "image/png": "[encoded data removed]"
          },
          "metadata": {}
        }
      ]
    },
    {
      "cell_type": "markdown",
      "source": [
        "## Precisión, recall y F1-score"
      ],
      "metadata": {
        "id": "4F2z6VOuAxX2"
      }
    },
    {
      "cell_type": "code",
      "source": [],
      "metadata": {
        "id": "jMwje3QM7uTz"
      },
      "execution_count": null,
      "outputs": []
    },
    {
      "cell_type": "markdown",
      "source": [
        "Grupo 8 : Cintia Cuevas, Daniela Soto, Nicolas Pelleritti"
      ],
      "metadata": {
        "id": "tqLzS9d_c0UE"
      }
    }
  ]
}